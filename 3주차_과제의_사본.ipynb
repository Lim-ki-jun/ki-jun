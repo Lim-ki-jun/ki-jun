{
  "nbformat": 4,
  "nbformat_minor": 0,
  "metadata": {
    "colab": {
      "name": "3주차 과제의 사본",
      "provenance": [],
      "collapsed_sections": [],
      "include_colab_link": true
    },
    "kernelspec": {
      "name": "python3",
      "display_name": "Python 3"
    }
  },
  "cells": [
    {
      "cell_type": "markdown",
      "metadata": {
        "id": "view-in-github",
        "colab_type": "text"
      },
      "source": [
        "<a href=\"https://colab.research.google.com/github/Lim-ki-jun/ki-jun/blob/master/3%EC%A3%BC%EC%B0%A8_%EA%B3%BC%EC%A0%9C%EC%9D%98_%EC%82%AC%EB%B3%B8.ipynb\" target=\"_parent\"><img src=\"https://colab.research.google.com/assets/colab-badge.svg\" alt=\"Open In Colab\"/></a>"
      ]
    },
    {
      "cell_type": "markdown",
      "metadata": {
        "id": "YbgBvQ6DjxMm",
        "colab_type": "text"
      },
      "source": [
        "# 3주차 과제\n",
        "- 학습률 최적화\n",
        "- 군집 분석(병합 계층 군집) 구현 클론 코딩\n",
        "- Cost function 구현"
      ]
    },
    {
      "cell_type": "markdown",
      "metadata": {
        "id": "evbG1BaNI1qd",
        "colab_type": "text"
      },
      "source": [
        "## 1. 학습률 최적화"
      ]
    },
    {
      "cell_type": "markdown",
      "metadata": {
        "id": "rqvqy18tI5Q5",
        "colab_type": "text"
      },
      "source": [
        "간단한 예제를 통해 학습률 최적화의 중요성에 대해서 확인 해 보도록 하겠습니다.\n",
        "\n",
        "아래 링크에서 __1단계만__에 손실 곡선의 최저점에 도달하게 하는 학습률을 찾아 정답을 적어주세요\n",
        "\n",
        "링크: https://developers.google.com/machine-learning/crash-course/fitter/graph?hl=ko"
      ]
    },
    {
      "cell_type": "markdown",
      "metadata": {
        "colab_type": "text",
        "id": "qUxMf1vR182z"
      },
      "source": [
        "### 정답 : 1.60"
      ]
    },
    {
      "cell_type": "markdown",
      "metadata": {
        "id": "zBuhqFe3SjKX",
        "colab_type": "text"
      },
      "source": [
        "## 2. 군집 분석(병합 계층 군집) 구현 클론 코딩"
      ]
    },
    {
      "cell_type": "markdown",
      "metadata": {
        "id": "SEuHj4ps1vcp",
        "colab_type": "text"
      },
      "source": [
        "군집 분석 강의(군집문제[2] 3:10 ~ 5:20 부분)를 보고 코드를 따라 치며 출력 결과(과제 설명 페이지 참고)를 만드세요. \n",
        "\n",
        "강의에서는 데이터 시각화까지 진행하지만 \n",
        "과제에서는 표를 출력하는 것 까지만 하시면 됩니다.\n",
        "\n",
        "3주차 과제 안내 페이지를 보시면 표에 대한 이미지가 있습니다. 참고해주세요"
      ]
    },
    {
      "cell_type": "code",
      "metadata": {
        "id": "JN1YPCENSphW",
        "colab_type": "code",
        "colab": {}
      },
      "source": [
        "import numpy as np\n",
        "np.random.seed(123)\n",
        "X=np.random.random_sample([5,3])*10"
      ],
      "execution_count": 0,
      "outputs": []
    },
    {
      "cell_type": "code",
      "metadata": {
        "id": "ck00pZqZL9pD",
        "colab_type": "code",
        "colab": {
          "base_uri": "https://localhost:8080/",
          "height": 204
        },
        "outputId": "d2e9741b-02cb-42f4-cba6-e6787456232e"
      },
      "source": [
        "import pandas as pd\n",
        "variables=['X','Y','Z']\n",
        "labels = ['ID_0', 'ID_1,','ID_2','ID_3','ID_4']\n",
        "df = pd.DataFrame(X, columns=variables,index=labels)\n",
        "df"
      ],
      "execution_count": 4,
      "outputs": [
        {
          "output_type": "execute_result",
          "data": {
            "text/html": [
              "<div>\n",
              "<style scoped>\n",
              "    .dataframe tbody tr th:only-of-type {\n",
              "        vertical-align: middle;\n",
              "    }\n",
              "\n",
              "    .dataframe tbody tr th {\n",
              "        vertical-align: top;\n",
              "    }\n",
              "\n",
              "    .dataframe thead th {\n",
              "        text-align: right;\n",
              "    }\n",
              "</style>\n",
              "<table border=\"1\" class=\"dataframe\">\n",
              "  <thead>\n",
              "    <tr style=\"text-align: right;\">\n",
              "      <th></th>\n",
              "      <th>X</th>\n",
              "      <th>Y</th>\n",
              "      <th>Z</th>\n",
              "    </tr>\n",
              "  </thead>\n",
              "  <tbody>\n",
              "    <tr>\n",
              "      <th>ID_0</th>\n",
              "      <td>6.964692</td>\n",
              "      <td>2.861393</td>\n",
              "      <td>2.268515</td>\n",
              "    </tr>\n",
              "    <tr>\n",
              "      <th>ID_1,</th>\n",
              "      <td>5.513148</td>\n",
              "      <td>7.194690</td>\n",
              "      <td>4.231065</td>\n",
              "    </tr>\n",
              "    <tr>\n",
              "      <th>ID_2</th>\n",
              "      <td>9.807642</td>\n",
              "      <td>6.848297</td>\n",
              "      <td>4.809319</td>\n",
              "    </tr>\n",
              "    <tr>\n",
              "      <th>ID_3</th>\n",
              "      <td>3.921175</td>\n",
              "      <td>3.431780</td>\n",
              "      <td>7.290497</td>\n",
              "    </tr>\n",
              "    <tr>\n",
              "      <th>ID_4</th>\n",
              "      <td>4.385722</td>\n",
              "      <td>0.596779</td>\n",
              "      <td>3.980443</td>\n",
              "    </tr>\n",
              "  </tbody>\n",
              "</table>\n",
              "</div>"
            ],
            "text/plain": [
              "              X         Y         Z\n",
              "ID_0   6.964692  2.861393  2.268515\n",
              "ID_1,  5.513148  7.194690  4.231065\n",
              "ID_2   9.807642  6.848297  4.809319\n",
              "ID_3   3.921175  3.431780  7.290497\n",
              "ID_4   4.385722  0.596779  3.980443"
            ]
          },
          "metadata": {
            "tags": []
          },
          "execution_count": 4
        }
      ]
    },
    {
      "cell_type": "code",
      "metadata": {
        "id": "AU3N87YeVxkb",
        "colab_type": "code",
        "colab": {}
      },
      "source": [
        "from scipy.spatial.distance import pdist,squareform"
      ],
      "execution_count": 0,
      "outputs": []
    },
    {
      "cell_type": "code",
      "metadata": {
        "id": "rslSI2kkVxn3",
        "colab_type": "code",
        "colab": {}
      },
      "source": [
        "Y = pdist(df)\n",
        "Y"
      ],
      "execution_count": 0,
      "outputs": []
    },
    {
      "cell_type": "code",
      "metadata": {
        "id": "TVlGV5SWVxy0",
        "colab_type": "code",
        "colab": {}
      },
      "source": [
        "row_dist = pd.DataFrame(squareform(pdist(df,metric='euclidean')),\n",
        "                        columns=labels, index=labels)"
      ],
      "execution_count": 0,
      "outputs": []
    },
    {
      "cell_type": "code",
      "metadata": {
        "id": "VJiRx6qNW2la",
        "colab_type": "code",
        "colab": {}
      },
      "source": [
        "from scipy.cluster.hierarchy import linkage"
      ],
      "execution_count": 0,
      "outputs": []
    },
    {
      "cell_type": "code",
      "metadata": {
        "id": "3Pr4-qnsW2vb",
        "colab_type": "code",
        "colab": {}
      },
      "source": [
        "row_clusters=linkage(pdist(df, metric='euclidean'),\n",
        "                     method='complete')"
      ],
      "execution_count": 0,
      "outputs": []
    },
    {
      "cell_type": "code",
      "metadata": {
        "id": "-bp17BfxX5du",
        "colab_type": "code",
        "colab": {}
      },
      "source": [
        "row_cluster=linkage(df.values,\n",
        "                    method='complete',\n",
        "                    metric='euclidean')"
      ],
      "execution_count": 0,
      "outputs": []
    },
    {
      "cell_type": "code",
      "metadata": {
        "id": "PUZfS6VIYNs3",
        "colab_type": "code",
        "colab": {
          "base_uri": "https://localhost:8080/",
          "height": 173
        },
        "outputId": "f96666a5-6fca-4ee7-d2f5-9de48132db53"
      },
      "source": [
        "pd.DataFrame(row_cluster,\n",
        "             columns=['row label 1', 'row label 2','distance','no. of items in clust.'],\n",
        "             index =['cluster %d' %(i+1) for i in range(row_clusters.shape[0])])"
      ],
      "execution_count": 16,
      "outputs": [
        {
          "output_type": "execute_result",
          "data": {
            "text/html": [
              "<div>\n",
              "<style scoped>\n",
              "    .dataframe tbody tr th:only-of-type {\n",
              "        vertical-align: middle;\n",
              "    }\n",
              "\n",
              "    .dataframe tbody tr th {\n",
              "        vertical-align: top;\n",
              "    }\n",
              "\n",
              "    .dataframe thead th {\n",
              "        text-align: right;\n",
              "    }\n",
              "</style>\n",
              "<table border=\"1\" class=\"dataframe\">\n",
              "  <thead>\n",
              "    <tr style=\"text-align: right;\">\n",
              "      <th></th>\n",
              "      <th>row label 1</th>\n",
              "      <th>row label 2</th>\n",
              "      <th>distance</th>\n",
              "      <th>no. of items in clust.</th>\n",
              "    </tr>\n",
              "  </thead>\n",
              "  <tbody>\n",
              "    <tr>\n",
              "      <th>cluster 1</th>\n",
              "      <td>0.0</td>\n",
              "      <td>4.0</td>\n",
              "      <td>3.835396</td>\n",
              "      <td>2.0</td>\n",
              "    </tr>\n",
              "    <tr>\n",
              "      <th>cluster 2</th>\n",
              "      <td>1.0</td>\n",
              "      <td>2.0</td>\n",
              "      <td>4.347073</td>\n",
              "      <td>2.0</td>\n",
              "    </tr>\n",
              "    <tr>\n",
              "      <th>cluster 3</th>\n",
              "      <td>3.0</td>\n",
              "      <td>5.0</td>\n",
              "      <td>5.899885</td>\n",
              "      <td>3.0</td>\n",
              "    </tr>\n",
              "    <tr>\n",
              "      <th>cluster 4</th>\n",
              "      <td>6.0</td>\n",
              "      <td>7.0</td>\n",
              "      <td>8.316594</td>\n",
              "      <td>5.0</td>\n",
              "    </tr>\n",
              "  </tbody>\n",
              "</table>\n",
              "</div>"
            ],
            "text/plain": [
              "           row label 1  row label 2  distance  no. of items in clust.\n",
              "cluster 1          0.0          4.0  3.835396                     2.0\n",
              "cluster 2          1.0          2.0  4.347073                     2.0\n",
              "cluster 3          3.0          5.0  5.899885                     3.0\n",
              "cluster 4          6.0          7.0  8.316594                     5.0"
            ]
          },
          "metadata": {
            "tags": []
          },
          "execution_count": 16
        }
      ]
    },
    {
      "cell_type": "markdown",
      "metadata": {
        "id": "3A57ycqltuON",
        "colab_type": "text"
      },
      "source": [
        "## 3. Cost function 구현\n",
        "## $$cost(W) =  \\frac{1}{n}\\sum_{i=1}^n (Wx^{(i)}-y^{(i)})^2$$"
      ]
    },
    {
      "cell_type": "markdown",
      "metadata": {
        "id": "LS7Qtqm14hg-",
        "colab_type": "text"
      },
      "source": [
        "### 데이터(X, Y)"
      ]
    },
    {
      "cell_type": "code",
      "metadata": {
        "id": "iKpEGob-4EbZ",
        "colab_type": "code",
        "colab": {}
      },
      "source": [
        "# 제공된 데이터는 변경 할 수 없습니다.\n",
        "x = [1, 2, 3]\n",
        "y = [2, 4, 6]"
      ],
      "execution_count": 0,
      "outputs": []
    },
    {
      "cell_type": "markdown",
      "metadata": {
        "id": "AWaFS6a54vCL",
        "colab_type": "text"
      },
      "source": [
        "### cost function을 파이썬으로 구현하세요.\n",
        "pass를 지우고 cost_func 함수를 완성하세요.\n",
        "\n",
        "가중치(Weight)를 입력하면 코스트(cost)를 계산하는 함수를 만드는게 목적입니다."
      ]
    },
    {
      "cell_type": "code",
      "metadata": {
        "id": "LT3q8ACK4ezT",
        "colab_type": "code",
        "colab": {}
      },
      "source": [
        "# W(가중치) 데이터 타입 -> int or float\n",
        "# x(학습 데이터) 데이터 타입 -> list\n",
        "# y(정답 데이터) 데이터 타입 -> list\n",
        "# cost_func 함수 리턴값 타입 -> float\n",
        "# cost_func 함수 리턴값 = cost 값\n",
        "# W:가중치, x:학습 데이터 y:정답 데이터\n",
        "def cost_func(W, x, y):\n",
        "  s = 0\n",
        "  for i in range(len(x)):\n",
        "      s += (W * x[i] - y[i]) ** 2\n",
        "  return s / len(x)"
      ],
      "execution_count": 0,
      "outputs": []
    },
    {
      "cell_type": "code",
      "metadata": {
        "id": "D8GjYcQ4bHJ-",
        "colab_type": "code",
        "colab": {
          "base_uri": "https://localhost:8080/",
          "height": 1000
        },
        "outputId": "413cdffa-a5d0-4394-d910-e4dab6e0eb48"
      },
      "source": [
        "W_val, cost_val = [], []\n",
        "for i in range(-30, 51):\n",
        "    W = i*0.1\n",
        "    c = cost_func(W, x, y)\n",
        "\n",
        "    print('{:.1f}, {:.1f}'.format(W, c))\n",
        "\n",
        "    W_val.append(W)\n",
        "    cost_val.append(c)\n",
        "    \n",
        "import matplotlib.pyplot as plt\n",
        "\n",
        "plt.plot(W_val, cost_val, 'ro')\n",
        "plt.ylabel('Cost')\n",
        "plt.xlabel('W')\n",
        "plt.show()"
      ],
      "execution_count": 44,
      "outputs": [
        {
          "output_type": "stream",
          "text": [
            "-3.0, 90.0\n",
            "-2.9, 87.0\n",
            "-2.8, 84.1\n",
            "-2.7, 81.2\n",
            "-2.6, 78.4\n",
            "-2.5, 75.6\n",
            "-2.4, 72.9\n",
            "-2.3, 70.2\n",
            "-2.2, 67.6\n",
            "-2.1, 65.0\n",
            "-2.0, 62.5\n",
            "-1.9, 60.0\n",
            "-1.8, 57.6\n",
            "-1.7, 55.2\n",
            "-1.6, 52.9\n",
            "-1.5, 50.6\n",
            "-1.4, 48.4\n",
            "-1.3, 46.2\n",
            "-1.2, 44.1\n",
            "-1.1, 42.0\n",
            "-1.0, 40.0\n",
            "-0.9, 38.0\n",
            "-0.8, 36.1\n",
            "-0.7, 34.2\n",
            "-0.6, 32.4\n",
            "-0.5, 30.6\n",
            "-0.4, 28.9\n",
            "-0.3, 27.2\n",
            "-0.2, 25.6\n",
            "-0.1, 24.0\n",
            "0.0, 22.5\n",
            "0.1, 21.0\n",
            "0.2, 19.6\n",
            "0.3, 18.2\n",
            "0.4, 16.9\n",
            "0.5, 15.6\n",
            "0.6, 14.4\n",
            "0.7, 13.2\n",
            "0.8, 12.1\n",
            "0.9, 11.0\n",
            "1.0, 10.0\n",
            "1.1, 9.0\n",
            "1.2, 8.1\n",
            "1.3, 7.2\n",
            "1.4, 6.4\n",
            "1.5, 5.6\n",
            "1.6, 4.9\n",
            "1.7, 4.2\n",
            "1.8, 3.6\n",
            "1.9, 3.0\n",
            "2.0, 2.5\n",
            "2.1, 2.0\n",
            "2.2, 1.6\n",
            "2.3, 1.2\n",
            "2.4, 0.9\n",
            "2.5, 0.6\n",
            "2.6, 0.4\n",
            "2.7, 0.2\n",
            "2.8, 0.1\n",
            "2.9, 0.0\n",
            "3.0, 0.0\n",
            "3.1, 0.0\n",
            "3.2, 0.1\n",
            "3.3, 0.2\n",
            "3.4, 0.4\n",
            "3.5, 0.6\n",
            "3.6, 0.9\n",
            "3.7, 1.2\n",
            "3.8, 1.6\n",
            "3.9, 2.0\n",
            "4.0, 2.5\n",
            "4.1, 3.0\n",
            "4.2, 3.6\n",
            "4.3, 4.2\n",
            "4.4, 4.9\n",
            "4.5, 5.6\n",
            "4.6, 6.4\n",
            "4.7, 7.2\n",
            "4.8, 8.1\n",
            "4.9, 9.0\n",
            "5.0, 10.0\n"
          ],
          "name": "stdout"
        },
        {
          "output_type": "display_data",
          "data": {
            "image/png": "[encoded data removed]",
            "text/plain": [
              "<Figure size 432x288 with 1 Axes>"
            ]
          },
          "metadata": {
            "tags": [],
            "needs_background": "light"
          }
        }
      ]
    },
    {
      "cell_type": "markdown",
      "metadata": {
        "id": "lP20Ia-Reb49",
        "colab_type": "text"
      },
      "source": [
        "예시) x가 [1, 2] 이고 y가 [3, 6] 그리고 W가 4 일 경우  cost_func(W, x, y)함수의 리턴값은 2.5"
      ]
    },
    {
      "cell_type": "markdown",
      "metadata": {
        "id": "x4DoGgO9uZi2",
        "colab_type": "text"
      },
      "source": [
        "### cost_func을 활용하여 웨이트(Weight)가 -5부터 5까지의 변화에 따른 코스트(cost)를 출력 해주세요."
      ]
    },
    {
      "cell_type": "code",
      "metadata": {
        "id": "3XfP0-zIXQF6",
        "colab_type": "code",
        "outputId": "7e7e5de8-2137-4a7d-c0da-9f3d5c4750fd",
        "colab": {
          "base_uri": "https://localhost:8080/",
          "height": 215
        }
      },
      "source": [
        "# 여기 코드셀은 변경하지 마세요.\n",
        "# 완성된 함수를 확인하는 과정으로 해당 코드셀을 실행해서 정상 출력되면 정답!\n",
        "# 주의! 에러가 날 경우 데이터 코드셀과 cost function 코드셀을 실행했는지 확인해주세요.\n",
        "for feed_W in range(-5, 6, 1):\n",
        "  curr_cost = cost_func(feed_W, x, y)\n",
        "  print(\"{:6.3f} | {:10.5f}\".format(feed_W, curr_cost))"
      ],
      "execution_count": 36,
      "outputs": [
        {
          "output_type": "stream",
          "text": [
            "-5.000 |  160.00000\n",
            "-4.000 |  122.50000\n",
            "-3.000 |   90.00000\n",
            "-2.000 |   62.50000\n",
            "-1.000 |   40.00000\n",
            " 0.000 |   22.50000\n",
            " 1.000 |   10.00000\n",
            " 2.000 |    2.50000\n",
            " 3.000 |    0.00000\n",
            " 4.000 |    2.50000\n",
            " 5.000 |   10.00000\n"
          ],
          "name": "stdout"
        }
      ]
    }
  ]
}
