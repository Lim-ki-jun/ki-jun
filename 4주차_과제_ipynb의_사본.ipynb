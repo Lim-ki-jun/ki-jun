{
  "nbformat": 4,
  "nbformat_minor": 0,
  "metadata": {
    "colab": {
      "name": "4주차 과제.ipynb의 사본",
      "provenance": [],
      "collapsed_sections": [],
      "include_colab_link": true
    },
    "kernelspec": {
      "name": "python3",
      "display_name": "Python 3"
    }
  },
  "cells": [
    {
      "cell_type": "markdown",
      "metadata": {
        "id": "view-in-github",
        "colab_type": "text"
      },
      "source": [
        "<a href=\"https://colab.research.google.com/github/Lim-ki-jun/ki-jun/blob/master/4%EC%A3%BC%EC%B0%A8_%EA%B3%BC%EC%A0%9C_ipynb%EC%9D%98_%EC%82%AC%EB%B3%B8.ipynb\" target=\"_parent\"><img src=\"https://colab.research.google.com/assets/colab-badge.svg\" alt=\"Open In Colab\"/></a>"
      ]
    },
    {
      "cell_type": "markdown",
      "metadata": {
        "id": "wxkL6PjwsI6L",
        "colab_type": "text"
      },
      "source": [
        "# 4주차 과제\n",
        "- 용어 정리\n",
        "- 딥러닝 강의 클론 코딩\n",
        "- 딥러닝 순전파 & 역전파 계산"
      ]
    },
    {
      "cell_type": "markdown",
      "metadata": {
        "id": "ixEtDe6_uGgI",
        "colab_type": "text"
      },
      "source": [
        "## 1. 용어 정리\n",
        "\n",
        "다음 제시된 단어의 정의(설명)를 정리하여 작성 하세요.\n",
        "\n",
        "* 2문장 이상 작성 해 주세요. \n",
        "* 주제(단어)와 크게 벗어나지만 않는다면 정답처리 됩니다.\n",
        "* 강의 뿐 아니라 기타 레퍼런스를 참고하여 작성하셔도 됩니다. (기타 레퍼런스를 참고하신 경우, 해당 레퍼런스를 정리하여 하단에 작성해 주세요.)\n"
      ]
    },
    {
      "cell_type": "markdown",
      "metadata": {
        "id": "0lfwat8eurKZ",
        "colab_type": "text"
      },
      "source": [
        "__(예시)__\n",
        "### 심층 신경망\n",
        ": 입력층과 출력층 사이에 여러 개의 은닉층들로 이뤄진 인공신경망이다. 심층 신경망은 일반적으로 인공신경망과 마찬가지로 복잡한 비선형 관계들을 모델링 할 수 있다. 신층신경망의 목적은 분류 및 수치예측을 하기 위함이고 이미지 트레이닝이나 문자인식과 같은 분야에서 매우 유용하게 쓰이고 있다."
      ]
    },
    {
      "cell_type": "markdown",
      "metadata": {
        "id": "Y8YJNKG_v65A",
        "colab_type": "text"
      },
      "source": [
        "### MCP 뉴런\n",
        ":1943년 워런 맥컬록과 월터 피츠가 발표 한 처음으로 간소화된 뇌의 뉴런 개념으로 뉴런들은 뇌의 신경 세포와 서로 연결되어 화학적·전기적 신호를 처리하고 전달하는 데 관여한다고 밝혔습니다.\n",
        " 맥컬록과 피츠는 신경 세포를 이진 출력을 내는 간단한 논리 회로로 표현했고, 수상 돌기에 여러 신호가 도착하면 세포체에 합쳐지면, 합쳐진 신호가 특정 임계 값을 넘으면 출력 신호가 생성되고 축삭 돌기를 이용하여 전달됩니다.\n",
        "\n",
        "### 퍼셉트론\n",
        ":인공신경망의 한 종류로서, 1957년에 프랑크 로젠블라트가 MCP 뉴런 모델을 기반으로 퍼셉트론 학습 개념을 처음 발표했습니다.\n",
        "  퍼셉트론은 다수의 신호를 입력받아 하나의 신호를 출력하는 알고리즘으로 \n",
        "간단히 예를 들면 AND 게이트 같이 두 개의 신호를 받아 0, 1로 출력하는 것도 퍼셉트론 알고리즘이라고도 할 수 있습니다. \n",
        " 그러나 퍼셉트론은 XOR 연산이 불가능하며, 단순선형분류기로 비유되기도 했지만,이는 다층 퍼셉트론으로는 XOR 연산이 가능해졌습니다.\n",
        "\n",
        "### 역전파\n",
        ": 다층 퍼셉트론 학습에 사용되는 통계적 기법으로 기계 학습에서 사용되는 학습 구조로 다층 퍼셉트론에서 일반적인 다층 퍼셉트론의 형태는 입력층 - 은닉층 - 출력층으로 구성되어 있는데, 각 층은 서로 교차되는 weight 값으로 연결되어 있고, 출력층에서 제시한 값에 대해, 실제 원하는 값으로 학습하는 방법으로 통계적 방법에 의한 역전법을 사용합니다.\n",
        " 역전법은 동일 입력층에 대해 원하는 값이 출력되도록 개개의 weight를 조정하는 방법으로 사용되며, 속도는 느리지만, 안정적인 결과를 얻을 수 있는 장점이 있어 기계 학습에 널리 사용되고 있습니다.\n",
        "\n",
        "### 강화학습\n",
        ":강화 학습은 행동심리학에서 영감을 받아 어떤 환경 안에서 정의된 에이전트가 현재의 상태를 인식하여, 선택 가능한 행동들 중 보상을 최대화하는 행동 혹은 행동 순서를 선택하는 방법입니다. 이러한 문제는 매우 포괄적이기 때문에 게임 이론, 제어이론, 운용 과학, 정보 이론, 시뮬레이션 기반 최적화, 다중 에이전트 시스템, 떼 지능, 통계학, 유전 알고리즘 등의 분야에서도 연구되고 있습니다.\n",
        " 강화 학습에서 다루는 '환경'은 주로 마르코프 결정 과정으로 주어지는데, 마르코프 결정 과정 문제를 해결하는 기존의 방식과 강화 학습이 다른 지점은, 강화 학습은 마르코프 결정 과정에 대한 지식을 요구하지 않는다는 점과, 강화 학습은 크기가 매우 커서 결정론적 방법을 적용할 수 없는 규모의 마르코프 결정 과정 문제를 다룬다는 점입니다.\n",
        " 강화 학습은 또한 입출력 쌍으로 이루어진 훈련 집합이 제시되지 않으며, 잘못된 행동에 대해서도 명시적으로 정정이 일어나지 않는다는 점에서 일반적인 지도 학습과 다릅니다.  대신, 강화학습의 초점은 학습 과정에서의 성능이며, 이는 탐색과 이용의 균형을 맞춤으로써 제고됩니다. 탐색과 이용의 균형 문제 강화 학습에서 가장 많이 연구된 문제로, 다중 슬롯 머신 문제와 유한한 마르코프 결정 과정 등에서 연구되었습니다.\n",
        "\n",
        "### 과적합\n",
        ": 과적합은 기계 학습에서 학습 데이터를 과하게 학습하는 것을 뜻하며, 일반적으로 학습 데이터는 실제 데이터의 부분 집합이므로 학습데이타에 대해서는 오차가 감소하지만 실제 데이터에 대해서는 오차가 증가하게 됩니다.\n",
        " 일반적으로 학습 데이터는 실제 데이터의 부분집합이며, 실제 데이터를 모두 수집하는 것은 불가능한데, 만약 실제 데이터를 모두 수집하여도 모든 데이터를 학습 시키기 위한 시간이 측정 불가능한 수준으로 증가 할 수 있습니다.\n",
        "즉, 학습 데이터만 가지고 실제 데이터의 오차가 증가하는 지점을 예측하는 것은 매우 어렵거나 불가능합니다.\n",
        "\n",
        "### 차원의 저주\n",
        ":데이터의 차원이 증가할수록 해당 공간의 크기(부피) 기하급수적으로 증가하기 때문에 동일한 개수의 데이터의 밀도는 차원이 증가할수록 급속도로 희박해지며, 따라서, 차원이 증가할수록 데이터의 분포 분석 또는 모델추정에 필요한 샘플 데이터의 개수가 기하급수적으로 증가하게 되는데 이러한 어려움을 표현한 용어가 차원의 저주 입니다.\n",
        " 따라서 데이터 분석 등의 차원에 관계된 문제에 있어서는 어떻게든 핵심이 되는 파라미터만을 선별하여 문제의 차원을 낮추고자 하는 것이 일반적입니다.\n",
        "\n"
      ]
    },
    {
      "cell_type": "markdown",
      "metadata": {
        "id": "d-zfFXLCy6jD",
        "colab_type": "text"
      },
      "source": [
        "## 2. 딥러닝 강의 클론 코딩\n",
        "\n",
        "####__퍼셉트론 구조 구현하기__ \n",
        "딥러닝 강의(__딥러닝 원리[1] 3:15 ~ 5:15 부분__)를 보고 코드를 따라 치며 출력 결과를 만드세요.\n",
        " \n",
        "\n",
        "* 하나의 코드셀에 해당 코드를 한번에 다 적어서 실행해주세요 (__그렇게 하지 않을 경우, 아래 이미지와 같은 출력값이 나오지 않을 수 있습니다__)\n",
        "\n",
        "*__주의!__ 실제로 코딩해서 출력해보면 강의에 나온 출력 결과와 다르게 나옵니다!!\n"
      ]
    },
    {
      "cell_type": "code",
      "metadata": {
        "id": "N2Z-e7OFoX-5",
        "colab_type": "code",
        "colab": {}
      },
      "source": [
        "import tensorflow as tf\n",
        "tf.compat.v1.set_random_seed(2020)\n",
        "x=1\n",
        "y=0\n",
        "w=tf.random.normal([1], 0, 1)\n",
        "\n",
        "import math\n",
        "def sigmoid(x):\n",
        "  return 1/(1+math.exp(-x))"
      ],
      "execution_count": 0,
      "outputs": []
    },
    {
      "cell_type": "code",
      "metadata": {
        "id": "g8QA0DOrqaV-",
        "colab_type": "code",
        "outputId": "6046a0ef-6a33-46a2-d06b-0eb068a83410",
        "colab": {
          "base_uri": "https://localhost:8080/",
          "height": 35
        }
      },
      "source": [
        "output = sigmoid(x*w)\n",
        "print(output)"
      ],
      "execution_count": 0,
      "outputs": [
        {
          "output_type": "stream",
          "text": [
            "0.47477188589261\n"
          ],
          "name": "stdout"
        }
      ]
    },
    {
      "cell_type": "code",
      "metadata": {
        "id": "fjDFOLtpqrMg",
        "colab_type": "code",
        "outputId": "9321f36c-2ce3-4c93-a2d2-bbc38c6902f0",
        "colab": {
          "base_uri": "https://localhost:8080/",
          "height": 197
        }
      },
      "source": [
        "for i in range(1000):\n",
        "  output = sigmoid(x*w)\n",
        "  error = y-output\n",
        "  w=w+x*0.1*error\n",
        "\n",
        "  if i%100 == 99:\n",
        "    print(\"학습횟수:\",i, \"error:\", error, \"예측결과:\", output)"
      ],
      "execution_count": 0,
      "outputs": [
        {
          "output_type": "stream",
          "text": [
            "학습횟수: 99 error: -0.10010598284299604 예측결과: 0.10010598284299604\n",
            "학습횟수: 199 error: -0.05178399422833116 예측결과: 0.05178399422833116\n",
            "학습횟수: 299 error: -0.034590451977903586 예측결과: 0.034590451977903586\n",
            "학습횟수: 399 error: -0.02588962752851373 예측결과: 0.02588962752851373\n",
            "학습횟수: 499 error: -0.020658699939863617 예측결과: 0.020658699939863617\n",
            "학습횟수: 599 error: -0.017174253993457355 예측결과: 0.017174253993457355\n",
            "학습횟수: 699 error: -0.014689506449480992 예측결과: 0.014689506449480992\n",
            "학습횟수: 799 error: -0.012829497265431342 예측결과: 0.012829497265431342\n",
            "학습횟수: 899 error: -0.011385568271837804 예측결과: 0.011385568271837804\n",
            "학습횟수: 999 error: -0.010232493309882492 예측결과: 0.010232493309882492\n"
          ],
          "name": "stdout"
        }
      ]
    },
    {
      "cell_type": "markdown",
      "metadata": {
        "id": "wcc5mzI9oZ7r",
        "colab_type": "text"
      },
      "source": [
        "![대체 텍스트](https://www.notion.so/image/https%3A%2F%2Fs3-us-west-2.amazonaws.com%2Fsecure.notion-static.com%2F0cceeed0-0235-4b0f-af88-0b8c377d5b4b%2F_2020-06-09__9.35.23.png?table=block&id=88fd8912-9356-49a4-9fda-a1a63fe96ea9&width=2870&cache=v2)"
      ]
    },
    {
      "cell_type": "markdown",
      "metadata": {
        "id": "kr0HVRk8fOom",
        "colab_type": "text"
      },
      "source": [
        "## 3. 딥러닝 순전파 & 역전파 계산\n",
        "\n",
        "딥러닝 강의(__딥러닝 원리[2] 0:55 ~ 4:32 부분__)에 나오는 순전파 & 역전파 계산에 대한 문제 입니다.\n",
        "\n",
        "해당 영상과 다음 이미지를 참고하여 다음 2가지 물음에 답하세요.\n",
        "\n",
        "\n",
        "(1) 학습률이 0.2 일 경우 출력층의 노드값\n",
        "\n",
        "(2) 학습률이 0.1과 0.2 중 기대출력값이 지도데이터 \"3\"과 더 가까운 학습률은?"
      ]
    },
    {
      "cell_type": "markdown",
      "metadata": {
        "id": "CpwPFWhOUzww",
        "colab_type": "text"
      },
      "source": [
        "![대체 텍스트](https://www.notion.so/image/https%3A%2F%2Fs3-us-west-2.amazonaws.com%2Fsecure.notion-static.com%2Ff54dfd45-92ec-44ae-9616-6949d2484a45%2F_2020-06-10__5.22.03.png?table=block&id=ee05da89-3ceb-4ad9-a2d3-c9f68d24d1d9&width=3580&cache=v2)"
      ]
    },
    {
      "cell_type": "markdown",
      "metadata": {
        "id": "B2OVY7w5U3CI",
        "colab_type": "text"
      },
      "source": [
        "## (1) 학습률이 0.2 일 경우 출력층의 노드값 : 2.72\n",
        "## (2) 학습률이 0.1과 0.2 중 기대출력값이 지도데이터 \"3\"과 더 가까운 학습률은? : 0.2"
      ]
    },
    {
      "cell_type": "code",
      "metadata": {
        "id": "BgavfvqiWxBU",
        "colab_type": "code",
        "colab": {}
      },
      "source": [
        ""
      ],
      "execution_count": 0,
      "outputs": []
    }
  ]
}